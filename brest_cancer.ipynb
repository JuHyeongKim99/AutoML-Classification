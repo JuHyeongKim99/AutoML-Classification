{
 "cells": [
  {
   "cell_type": "code",
   "execution_count": 7,
   "metadata": {},
   "outputs": [],
   "source": [
    "#requirements\n",
    "import numpy as np\n",
    "import pandas as pd"
   ]
  },
  {
   "cell_type": "code",
   "execution_count": 10,
   "metadata": {},
   "outputs": [
    {
     "name": "stdout",
     "output_type": "stream",
     "text": [
      "        ID  Clump_Thick  Cell_Size  Cell_Shape  Marg_Ad  SE_Cell_Size  \\\n",
      "0  1000025            5          1           1        1             2   \n",
      "1  1002945            5          4           4        5             7   \n",
      "2  1015425            3          1           1        1             2   \n",
      "3  1016277            6          8           8        1             3   \n",
      "4  1017023            4          1           1        3             2   \n",
      "\n",
      "  Bare_Nuc  Blnd_Chrom  Norm_Nucl  Mito  Class  \n",
      "0        1           3          1     1      2  \n",
      "1       10           3          2     1      2  \n",
      "2        2           3          1     1      2  \n",
      "3        4           3          7     1      2  \n",
      "4        1           3          1     1      2  \n",
      "<class 'pandas.core.frame.DataFrame'>\n",
      "RangeIndex: 699 entries, 0 to 698\n",
      "Data columns (total 11 columns):\n",
      " #   Column        Non-Null Count  Dtype \n",
      "---  ------        --------------  ----- \n",
      " 0   ID            699 non-null    int64 \n",
      " 1   Clump_Thick   699 non-null    int64 \n",
      " 2   Cell_Size     699 non-null    int64 \n",
      " 3   Cell_Shape    699 non-null    int64 \n",
      " 4   Marg_Ad       699 non-null    int64 \n",
      " 5   SE_Cell_Size  699 non-null    int64 \n",
      " 6   Bare_Nuc      699 non-null    object\n",
      " 7   Blnd_Chrom    699 non-null    int64 \n",
      " 8   Norm_Nucl     699 non-null    int64 \n",
      " 9   Mito          699 non-null    int64 \n",
      " 10  Class         699 non-null    int64 \n",
      "dtypes: int64(10), object(1)\n",
      "memory usage: 60.2+ KB\n",
      "None\n",
      "   Clump_Thick  Cell_Size  Cell_Shape  Marg_Ad  SE_Cell_Size Bare_Nuc  \\\n",
      "0            5          1           1        1             2        1   \n",
      "1            5          4           4        5             7       10   \n",
      "2            3          1           1        1             2        2   \n",
      "3            6          8           8        1             3        4   \n",
      "4            4          1           1        3             2        1   \n",
      "\n",
      "   Blnd_Chrom  Norm_Nucl  Class  \n",
      "0           3          1      2  \n",
      "1           3          2      2  \n",
      "2           3          1      2  \n",
      "3           3          7      2  \n",
      "4           3          1      2  \n"
     ]
    }
   ],
   "source": [
    "#load dataset\n",
    "\n",
    "#data description\n",
    "# with open(\"breast-cancer-wisconsin.names\") as f:\n",
    "#     print(f.read())\n",
    "\n",
    "#columns named accroding to data description \n",
    "columns = [\"ID\", \"Clump_Thick\", \"Cell_Size\", \"Cell_Shape\", \"Marg_Ad\", \"SE_Cell_Size\", \"Bare_Nuc\", \n",
    "           \"Blnd_Chrom\", \"Norm_Nucl\", \"Mito\", \"Class\"]\n",
    "\n",
    "df = pd.read_csv(\"breast-cancer-wisconsin.data\", header=None)\n",
    "df.columns = columns\n",
    "\n",
    "print(df.head())\n",
    "print(df.info())\n",
    "\n",
    "#preprocessing\n",
    "#drop unnecessary data\n",
    "unnecessary_col = ['ID', 'Mito']\n",
    "df = df.drop(columns=unnecessary_col, axis=1)\n",
    "\n",
    "##missing data\n",
    "df = df.replace('?', np.NaN)\n",
    "df = df.dropna(axis=0, how='any')\n",
    "\n",
    "print(df.head())"
   ]
  },
  {
   "cell_type": "code",
   "execution_count": 6,
   "metadata": {},
   "outputs": [
    {
     "name": "stdout",
     "output_type": "stream",
     "text": [
      "                    model  K                    model_params split_size  \\\n",
      "215  SupportVectorMachine  9  {'C': 0.02, 'random_state': 0}        0.7   \n",
      "207  SupportVectorMachine  9  {'C': 0.02, 'random_state': 0}        0.7   \n",
      "187  SupportVectorMachine  9  {'C': 0.02, 'random_state': 0}        0.7   \n",
      "191  SupportVectorMachine  9  {'C': 0.02, 'random_state': 0}        0.7   \n",
      "183  SupportVectorMachine  9  {'C': 0.02, 'random_state': 0}        0.7   \n",
      "\n",
      "     accuracy            scaler           encoder  \n",
      "215  0.974959    MaxAbsScaler()  OrdinalEncoder()  \n",
      "207  0.974959    MaxAbsScaler()    LabelEncoder()  \n",
      "187  0.974959  StandardScaler()   OneHotEncoder()  \n",
      "191  0.974959  StandardScaler()  OrdinalEncoder()  \n",
      "183  0.974959  StandardScaler()    LabelEncoder()  \n",
      "                    model  K                                   model_params  \\\n",
      "215  SupportVectorMachine  7                 {'C': 0.02, 'random_state': 0}   \n",
      "39   SupportVectorMachine  2                 {'C': 0.03, 'random_state': 0}   \n",
      "182    LogisticRegression  7  {'C': 0.01, 'dual': False, 'random_state': 0}   \n",
      "267  SupportVectorMachine  7                 {'C': 0.02, 'random_state': 0}   \n",
      "67   SupportVectorMachine  2                 {'C': 0.03, 'random_state': 0}   \n",
      "\n",
      "    split_size        f1            scaler           encoder  \n",
      "215        0.7  0.964078    MaxAbsScaler()  OrdinalEncoder()  \n",
      "39         0.7   0.96385    RobustScaler()    LabelEncoder()  \n",
      "182        0.7  0.959741  StandardScaler()    LabelEncoder()  \n",
      "267        0.8  0.958417    MaxAbsScaler()    LabelEncoder()  \n",
      "67         0.8  0.958269  StandardScaler()   OneHotEncoder()  \n"
     ]
    }
   ],
   "source": [
    "#try with library made by our team\n",
    "from best_model_builder import best_combination\n",
    "\n",
    "x_col = [\"Clump_Thick\",\t\"Cell_Size\", \"Cell_Shape\",\"Marg_Ad\",\"SE_Cell_Size\",\t\"Bare_Nuc\",\t\"Blnd_Chrom\",\"Norm_Nucl\",\"Mito\"]\n",
    "y_col = [\"Class\"]\n",
    "\n",
    "X = df[x_col]\n",
    "y = df[\"Class\"]\n",
    "\n",
    "#all default parameters, 5 best soulution\n",
    "result = best_combination(5, X, y)\n",
    "print(result)\n",
    "\n",
    "#method = f1, only get 5 unique results, K=(2, 7)\n",
    "result = best_combination(5, X, y, method=\"f1\", get_distinct_values=True, K_range=7)\n",
    "\n",
    "print(result)"
   ]
  },
  {
   "cell_type": "code",
   "execution_count": null,
   "metadata": {},
   "outputs": [],
   "source": []
  },
  {
   "cell_type": "code",
   "execution_count": null,
   "metadata": {},
   "outputs": [],
   "source": []
  }
 ],
 "metadata": {
  "kernelspec": {
   "display_name": "Python 3 (ipykernel)",
   "language": "python",
   "name": "python3"
  },
  "language_info": {
   "codemirror_mode": {
    "name": "ipython",
    "version": 3
   },
   "file_extension": ".py",
   "mimetype": "text/x-python",
   "name": "python",
   "nbconvert_exporter": "python",
   "pygments_lexer": "ipython3",
   "version": "3.9.13"
  },
  "vscode": {
   "interpreter": {
    "hash": "924294aec4984a3d20ac973e18aca93561a9a63586b8ed85e5d472fac78b00dc"
   }
  }
 },
 "nbformat": 4,
 "nbformat_minor": 2
}
